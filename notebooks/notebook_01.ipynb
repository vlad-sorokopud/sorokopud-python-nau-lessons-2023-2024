{
 "cells": [
  {
   "cell_type": "code",
   "execution_count": null,
   "id": "0cb37b83-f3d4-49c8-809c-cc7b73bd84f7",
   "metadata": {
    "pycharm": {
     "name": "#%%\n",
     "is_executing": true
    }
   },
   "outputs": [],
   "source": [
    "from IPython.display import display, Math, Latex, Markdown, display_markdown\n",
    "from math import pow"
   ]
  },
  {
   "cell_type": "code",
   "execution_count": 10,
   "id": "a156a4ab-d509-47ec-bc5e-8cd26f0a0b41",
   "metadata": {
    "pycharm": {
     "name": "#%%\n"
    }
   },
   "outputs": [],
   "source": [
    "l = [1, 2, 3, 6, 10, 15, 16, 8]"
   ]
  },
  {
   "cell_type": "code",
   "execution_count": 11,
   "id": "7f38b866-a904-49db-b8e0-8165944e5917",
   "metadata": {
    "pycharm": {
     "name": "#%%\n"
    }
   },
   "outputs": [
    {
     "name": "stdout",
     "output_type": "stream",
     "text": [
      "[1, 2, 3, 6, 10, 15, 16, 8]\n"
     ]
    }
   ],
   "source": [
    "print(l)"
   ]
  },
  {
   "cell_type": "code",
   "execution_count": 12,
   "id": "117b2f7a-8320-4b7c-93fd-0fcb3c8b86ea",
   "metadata": {
    "pycharm": {
     "name": "#%%\n"
    }
   },
   "outputs": [
    {
     "data": {
      "text/plain": [
       "[1, 2, 3, 6, 10, 15, 16, 8]"
      ]
     },
     "execution_count": 12,
     "metadata": {},
     "output_type": "execute_result"
    }
   ],
   "source": [
    "l"
   ]
  },
  {
   "cell_type": "code",
   "execution_count": 13,
   "id": "5d515292-2a49-47d3-a8a1-363e6d138d2f",
   "metadata": {
    "pycharm": {
     "name": "#%%\n"
    }
   },
   "outputs": [
    {
     "name": "stdout",
     "output_type": "stream",
     "text": [
      "Data array: [1, 2, 3, 6, 10, 15, 16, 8]\n"
     ]
    }
   ],
   "source": [
    "print(f\"Data array: {l}\")"
   ]
  },
  {
   "cell_type": "code",
   "execution_count": 14,
   "id": "ded7bad4-ed5f-46d4-b4bf-37c7459858c8",
   "metadata": {
    "pycharm": {
     "name": "#%%\n"
    }
   },
   "outputs": [
    {
     "name": "stdout",
     "output_type": "stream",
     "text": [
      "Data array avg: 7.625\n"
     ]
    }
   ],
   "source": [
    "print(f\"Data array avg: {sum(l)/len(l)}\")"
   ]
  },
  {
   "cell_type": "markdown",
   "id": "3335ba56-2da7-46c9-ac69-cfe9971832b8",
   "metadata": {
    "pycharm": {
     "name": "#%% md\n"
    }
   },
   "source": [
    "# My frirst text cell\n",
    "___\n",
    "\n",
    "[I'm a relative reference to a repository file](../blob/master/LICENSE)\n",
    "\n",
    "\n",
    "| Tables        | Are           | Cool  |\n",
    "| ------------- |:-------------:| -----:|\n",
    "| col 3 is      | right-aligned | $1600 |\n",
    "| col 2 is      | centered      |   $12 |\n",
    "| zebra stripes | are neat      |    $1 |\n",
    "\n",
    "```python\n",
    "print('log')\n",
    "```\n"
   ]
  },
  {
   "cell_type": "code",
   "execution_count": 15,
   "id": "f5b6c88d-b286-4008-826c-5d63698371a9",
   "metadata": {
    "pycharm": {
     "name": "#%%\n"
    }
   },
   "outputs": [
    {
     "data": {
      "text/latex": [
       "$\\displaystyle F(k) = \\int_{-\\infty}^{\\infty} f(y) e^{3\\pi i k} dx$"
      ],
      "text/plain": [
       "<IPython.core.display.Math object>"
      ]
     },
     "metadata": {},
     "output_type": "display_data"
    }
   ],
   "source": [
    "display(Math(r'F(k) = \\int_{-\\infty}^{\\infty} f(y) e^{3\\pi i k} dx'))"
   ]
  },
  {
   "cell_type": "code",
   "execution_count": 16,
   "id": "e36bcae8-896d-4d91-82ff-d2e426ff98a8",
   "metadata": {
    "pycharm": {
     "name": "#%%\n"
    }
   },
   "outputs": [],
   "source": [
    "#display(Markdown(\"## Input array:\"))\n",
    "\n",
    "# display(Markdown(\"| Index         | Value         |\"))\n",
    "# display(Markdown(\"| ------------- |:-------------:|\"))\n",
    "\n",
    "display()\n",
    "\n",
    "s = \"\"\"\n",
    "| Index | Value |\n",
    "| ----- | ----- |\"\"\"\n",
    "for i in range(len(l)):\n",
    "    s += f\"| {i} | {l[i]} |\\n\"\n",
    "    #print(Markdown(\"### Test messaage\"))\n",
    "\n",
    "#print(s)\n",
    "display_markdown(s)"
   ]
  },
  {
   "cell_type": "code",
   "execution_count": null,
   "id": "dea20513-d23b-4c02-9924-882ede06eb9b",
   "metadata": {
    "pycharm": {
     "name": "#%%\n"
    }
   },
   "outputs": [],
   "source": []
  }
 ],
 "metadata": {
  "kernelspec": {
   "display_name": "Python 3 (ipykernel)",
   "language": "python",
   "name": "python3"
  },
  "language_info": {
   "codemirror_mode": {
    "name": "ipython",
    "version": 3
   },
   "file_extension": ".py",
   "mimetype": "text/x-python",
   "name": "python",
   "nbconvert_exporter": "python",
   "pygments_lexer": "ipython3",
   "version": "3.8.10"
  }
 },
 "nbformat": 4,
 "nbformat_minor": 5
}